{
  "nbformat": 4,
  "nbformat_minor": 0,
  "metadata": {
    "colab": {
      "name": "Clustering.ipynb",
      "provenance": [],
      "collapsed_sections": [],
      "authorship_tag": "ABX9TyNihCSyc9Rye9Zmk8/K/FLl",
      "include_colab_link": true
    },
    "kernelspec": {
      "name": "python3",
      "display_name": "Python 3"
    },
    "language_info": {
      "name": "python"
    }
  },
  "cells": [
    {
      "cell_type": "markdown",
      "metadata": {
        "id": "view-in-github",
        "colab_type": "text"
      },
      "source": [
        "<a href=\"https://colab.research.google.com/github/aamerS/Machine-learning/blob/master/Clustering.ipynb\" target=\"_parent\"><img src=\"https://colab.research.google.com/assets/colab-badge.svg\" alt=\"Open In Colab\"/></a>"
      ]
    },
    {
      "cell_type": "code",
      "execution_count": null,
      "metadata": {
        "id": "hSkM8-MSfdXR"
      },
      "outputs": [],
      "source": [
        "import pandas as pd"
      ]
    },
    {
      "cell_type": "code",
      "source": [
        "df=pd.DataFrame({'col1':[2,3,5,6,4,6],'col2':[4,3,5,3,3,6]})"
      ],
      "metadata": {
        "id": "D3a0C2DFfnWQ"
      },
      "execution_count": null,
      "outputs": []
    },
    {
      "cell_type": "code",
      "source": [
        "from sklearn.cluster import KMeans,AgglomerativeClustering,DBSCAN"
      ],
      "metadata": {
        "id": "Gv8lpe_If4jC"
      },
      "execution_count": null,
      "outputs": []
    },
    {
      "cell_type": "code",
      "source": [
        "km=KMeans(n_clusters=2)"
      ],
      "metadata": {
        "id": "yHPGcQjFgg6Y"
      },
      "execution_count": null,
      "outputs": []
    },
    {
      "cell_type": "code",
      "source": [
        "km.fit_predict(df)"
      ],
      "metadata": {
        "colab": {
          "base_uri": "https://localhost:8080/"
        },
        "id": "eoTLaY00D4v8",
        "outputId": "6bda8358-3e0c-4190-a5c7-bf1f5a5ff26b"
      },
      "execution_count": null,
      "outputs": [
        {
          "output_type": "execute_result",
          "data": {
            "text/plain": [
              "array([0, 0, 1, 1, 0, 1], dtype=int32)"
            ]
          },
          "metadata": {},
          "execution_count": 8
        }
      ]
    },
    {
      "cell_type": "code",
      "source": [
        "km.labels_"
      ],
      "metadata": {
        "colab": {
          "base_uri": "https://localhost:8080/"
        },
        "id": "hDreYgdHSNXE",
        "outputId": "c20eacd2-4165-4e75-9a2f-668f38ad901a"
      },
      "execution_count": null,
      "outputs": [
        {
          "output_type": "execute_result",
          "data": {
            "text/plain": [
              "array([1, 1, 0, 0, 1, 0], dtype=int32)"
            ]
          },
          "metadata": {},
          "execution_count": 10
        }
      ]
    },
    {
      "cell_type": "code",
      "source": [
        "km.inertia_"
      ],
      "metadata": {
        "colab": {
          "base_uri": "https://localhost:8080/"
        },
        "id": "DALzIqR_D8G3",
        "outputId": "a4ff776d-41d0-4fac-e167-b27bf3b015a9"
      },
      "execution_count": null,
      "outputs": [
        {
          "output_type": "execute_result",
          "data": {
            "text/plain": [
              "8.0"
            ]
          },
          "metadata": {},
          "execution_count": 11
        }
      ]
    },
    {
      "cell_type": "code",
      "source": [
        "import matplotlib.pyplot as plt"
      ],
      "metadata": {
        "id": "Ot51d9kUDCbF"
      },
      "execution_count": null,
      "outputs": []
    },
    {
      "cell_type": "code",
      "source": [
        "wcss=[]\n",
        "for i in range(1,5):\n",
        "  km=KMeans(n_clusters=i)\n",
        "  km.fit(df)\n",
        "  wcss.append(km.inertia_)\n",
        "\n",
        "plt.plot(range(1,5),wcss)\n",
        "plt.xlabel('Number of clusters')\n",
        "plt.ylabel('WCSS')"
      ],
      "metadata": {
        "colab": {
          "base_uri": "https://localhost:8080/",
          "height": 297
        },
        "id": "GEzRz4JyCv7f",
        "outputId": "72a3878c-1219-4b21-fca3-61c249e77790"
      },
      "execution_count": null,
      "outputs": [
        {
          "output_type": "execute_result",
          "data": {
            "text/plain": [
              "Text(0, 0.5, 'WCSS')"
            ]
          },
          "metadata": {},
          "execution_count": 52
        },
        {
          "output_type": "display_data",
          "data": {
            "image/png": "[encoded data removed]",
            "text/plain": [
              "<Figure size 432x288 with 1 Axes>"
            ]
          },
          "metadata": {
            "needs_background": "light"
          }
        }
      ]
    },
    {
      "cell_type": "code",
      "source": [
        "km.fit(df)"
      ],
      "metadata": {
        "colab": {
          "base_uri": "https://localhost:8080/"
        },
        "id": "u8gsUe68hFVa",
        "outputId": "015058f9-3dd8-4bf4-8c93-54cddbf6d16a"
      },
      "execution_count": null,
      "outputs": [
        {
          "output_type": "execute_result",
          "data": {
            "text/plain": [
              "KMeans(n_clusters=2)"
            ]
          },
          "metadata": {},
          "execution_count": 18
        }
      ]
    },
    {
      "cell_type": "code",
      "source": [
        "km.labels_"
      ],
      "metadata": {
        "colab": {
          "base_uri": "https://localhost:8080/"
        },
        "id": "8vrJpylYhJWV",
        "outputId": "402bf6e1-8ece-4667-ff01-58fd42c78914"
      },
      "execution_count": null,
      "outputs": [
        {
          "output_type": "execute_result",
          "data": {
            "text/plain": [
              "array([1, 1, 0, 0, 1, 0], dtype=int32)"
            ]
          },
          "metadata": {},
          "execution_count": 19
        }
      ]
    },
    {
      "cell_type": "code",
      "source": [
        "km.cluster_centers_"
      ],
      "metadata": {
        "colab": {
          "base_uri": "https://localhost:8080/"
        },
        "id": "WRke2QyMhuM_",
        "outputId": "f72d3159-17e7-4860-8d55-b19b70c17841"
      },
      "execution_count": null,
      "outputs": [
        {
          "output_type": "execute_result",
          "data": {
            "text/plain": [
              "array([[5.5       , 5.5       ],\n",
              "       [3.        , 3.33333333],\n",
              "       [6.        , 3.        ]])"
            ]
          },
          "metadata": {},
          "execution_count": 12
        }
      ]
    },
    {
      "cell_type": "code",
      "source": [
        "agg=AgglomerativeClustering()"
      ],
      "metadata": {
        "id": "-deq_2CLiMyh"
      },
      "execution_count": null,
      "outputs": []
    },
    {
      "cell_type": "code",
      "source": [
        "agg.fit(df)"
      ],
      "metadata": {
        "colab": {
          "base_uri": "https://localhost:8080/"
        },
        "id": "5NC0ZM7Tkgvr",
        "outputId": "7ab11427-a221-4a21-e9df-d086623709c0"
      },
      "execution_count": null,
      "outputs": [
        {
          "output_type": "execute_result",
          "data": {
            "text/plain": [
              "AgglomerativeClustering()"
            ]
          },
          "metadata": {},
          "execution_count": 13
        }
      ]
    },
    {
      "cell_type": "code",
      "source": [
        "agg.labels_"
      ],
      "metadata": {
        "colab": {
          "base_uri": "https://localhost:8080/"
        },
        "id": "fUBXJmehknrA",
        "outputId": "c043c735-58e7-4edb-de8e-4fa9cbdcf8eb"
      },
      "execution_count": null,
      "outputs": [
        {
          "output_type": "execute_result",
          "data": {
            "text/plain": [
              "array([1, 1, 0, 0, 1, 0])"
            ]
          },
          "metadata": {},
          "execution_count": 14
        }
      ]
    },
    {
      "cell_type": "code",
      "source": [
        "from scipy.cluster.hierarchy import dendrogram,linkage"
      ],
      "metadata": {
        "id": "WIVZW0NOkxb_"
      },
      "execution_count": null,
      "outputs": []
    },
    {
      "cell_type": "code",
      "source": [
        "link=linkage(df,'single')"
      ],
      "metadata": {
        "id": "HbAW1Ak-lQjT"
      },
      "execution_count": null,
      "outputs": []
    },
    {
      "cell_type": "code",
      "source": [
        "dendrogram(link)"
      ],
      "metadata": {
        "colab": {
          "base_uri": "https://localhost:8080/",
          "height": 501
        },
        "id": "E4-uRqnClWcQ",
        "outputId": "ff9e6155-380b-45c9-a62f-550a03d906a5"
      },
      "execution_count": null,
      "outputs": [
        {
          "output_type": "execute_result",
          "data": {
            "text/plain": [
              "{'color_list': ['g', 'r', 'r', 'b', 'b'],\n",
              " 'dcoord': [[0.0, 1.4142135623730951, 1.4142135623730951, 0.0],\n",
              "  [0.0, 1.0, 1.0, 0.0],\n",
              "  [0.0, 1.4142135623730951, 1.4142135623730951, 1.0],\n",
              "  [0.0, 2.0, 2.0, 1.4142135623730951],\n",
              "  [1.4142135623730951, 2.23606797749979, 2.23606797749979, 2.0]],\n",
              " 'icoord': [[5.0, 5.0, 15.0, 15.0],\n",
              "  [45.0, 45.0, 55.0, 55.0],\n",
              "  [35.0, 35.0, 50.0, 50.0],\n",
              "  [25.0, 25.0, 42.5, 42.5],\n",
              "  [10.0, 10.0, 33.75, 33.75]],\n",
              " 'ivl': ['2', '5', '3', '0', '1', '4'],\n",
              " 'leaves': [2, 5, 3, 0, 1, 4]}"
            ]
          },
          "metadata": {},
          "execution_count": 17
        },
        {
          "output_type": "display_data",
          "data": {
            "text/plain": [
              "<Figure size 432x288 with 1 Axes>"
            ],
            "image/png": "[encoded data removed]"
          },
          "metadata": {
            "needs_background": "light"
          }
        }
      ]
    },
    {
      "cell_type": "code",
      "source": [
        "db=DBSCAN(eps=0.5, min_samples=4)"
      ],
      "metadata": {
        "id": "BNmu-TvRlZ9S"
      },
      "execution_count": null,
      "outputs": []
    },
    {
      "cell_type": "code",
      "source": [
        "db.fit(df)"
      ],
      "metadata": {
        "colab": {
          "base_uri": "https://localhost:8080/",
          "height": 170
        },
        "id": "Yqbh74dxoIbn",
        "outputId": "49853d99-27ea-4cdd-f7a3-3f3a15f96ab0"
      },
      "execution_count": null,
      "outputs": [
        {
          "output_type": "error",
          "ename": "NameError",
          "evalue": "ignored",
          "traceback": [
            "\u001b[0;31m---------------------------------------------------------------------------\u001b[0m",
            "\u001b[0;31mNameError\u001b[0m                                 Traceback (most recent call last)",
            "\u001b[0;32m<ipython-input-18-6628504c7321>\u001b[0m in \u001b[0;36m<module>\u001b[0;34m()\u001b[0m\n\u001b[0;32m----> 1\u001b[0;31m \u001b[0mdb\u001b[0m\u001b[0;34m.\u001b[0m\u001b[0mfit\u001b[0m\u001b[0;34m(\u001b[0m\u001b[0mdf\u001b[0m\u001b[0;34m)\u001b[0m\u001b[0;34m\u001b[0m\u001b[0;34m\u001b[0m\u001b[0m\n\u001b[0m",
            "\u001b[0;31mNameError\u001b[0m: name 'db' is not defined"
          ]
        }
      ]
    },
    {
      "cell_type": "code",
      "source": [
        "db.labels_"
      ],
      "metadata": {
        "colab": {
          "base_uri": "https://localhost:8080/"
        },
        "id": "TkNZtL8ooSm8",
        "outputId": "603dc1d3-5487-43fa-b52d-7b5c88c644b3"
      },
      "execution_count": null,
      "outputs": [
        {
          "output_type": "execute_result",
          "data": {
            "text/plain": [
              "array([-1, -1, -1, -1, -1, -1])"
            ]
          },
          "metadata": {},
          "execution_count": 39
        }
      ]
    },
    {
      "cell_type": "code",
      "source": [
        "pip install sklearn_extra"
      ],
      "metadata": {
        "id": "9c8LTU8YoUSW",
        "colab": {
          "base_uri": "https://localhost:8080/"
        },
        "outputId": "6f81b97b-c698-408e-8e35-dce668199d77"
      },
      "execution_count": null,
      "outputs": [
        {
          "output_type": "stream",
          "name": "stdout",
          "text": [
            "\u001b[31mERROR: Could not find a version that satisfies the requirement sklearn_extra (from versions: none)\u001b[0m\n",
            "\u001b[31mERROR: No matching distribution found for sklearn_extra\u001b[0m\n"
          ]
        }
      ]
    },
    {
      "cell_type": "code",
      "source": [
        "pip install sklearn_extra\n",
        "                                                                                                                                                                                                                                                                                                                                                                                                       "
      ],
      "metadata": {
        "colab": {
          "base_uri": "https://localhost:8080/"
        },
        "id": "kE0pLeJ9gHaS",
        "outputId": "a709f323-a127-4356-98b4-e263ef27f1b2"
      },
      "execution_count": null,
      "outputs": [
        {
          "output_type": "stream",
          "name": "stdout",
          "text": [
            "\u001b[31mERROR: Could not find a version that satisfies the requirement sklearn_extra (from versions: none)\u001b[0m\n",
            "\u001b[31mERROR: No matching distribution found for sklearn_extra\u001b[0m\n"
          ]
        }
      ]
    },
    {
      "cell_type": "code",
      "source": [
        "pip install scikit-learn-extra\n"
      ],
      "metadata": {
        "colab": {
          "base_uri": "https://localhost:8080/"
        },
        "id": "g5-dSn1LgO1f",
        "outputId": "4faa0056-7671-4e2d-fdc2-bd2ed65cd995"
      },
      "execution_count": null,
      "outputs": [
        {
          "output_type": "stream",
          "name": "stdout",
          "text": [
            "Collecting scikit-learn-extra\n",
            "  Downloading scikit_learn_extra-0.2.0-cp37-cp37m-manylinux2010_x86_64.whl (1.7 MB)\n",
            "\u001b[?25l\r\u001b[K     |▏                               | 10 kB 27.2 MB/s eta 0:00:01\r\u001b[K     |▍                               | 20 kB 31.2 MB/s eta 0:00:01\r\u001b[K     |▋                               | 30 kB 36.1 MB/s eta 0:00:01\r\u001b[K     |▊                               | 40 kB 33.3 MB/s eta 0:00:01\r\u001b[K     |█                               | 51 kB 31.2 MB/s eta 0:00:01\r\u001b[K     |█▏                              | 61 kB 24.4 MB/s eta 0:00:01\r\u001b[K     |█▍                              | 71 kB 22.3 MB/s eta 0:00:01\r\u001b[K     |█▌                              | 81 kB 23.2 MB/s eta 0:00:01\r\u001b[K     |█▊                              | 92 kB 24.9 MB/s eta 0:00:01\r\u001b[K     |██                              | 102 kB 24.6 MB/s eta 0:00:01\r\u001b[K     |██                              | 112 kB 24.6 MB/s eta 0:00:01\r\u001b[K     |██▎                             | 122 kB 24.6 MB/s eta 0:00:01\r\u001b[K     |██▌                             | 133 kB 24.6 MB/s eta 0:00:01\r\u001b[K     |██▊                             | 143 kB 24.6 MB/s eta 0:00:01\r\u001b[K     |██▉                             | 153 kB 24.6 MB/s eta 0:00:01\r\u001b[K     |███                             | 163 kB 24.6 MB/s eta 0:00:01\r\u001b[K     |███▎                            | 174 kB 24.6 MB/s eta 0:00:01\r\u001b[K     |███▌                            | 184 kB 24.6 MB/s eta 0:00:01\r\u001b[K     |███▋                            | 194 kB 24.6 MB/s eta 0:00:01\r\u001b[K     |███▉                            | 204 kB 24.6 MB/s eta 0:00:01\r\u001b[K     |████                            | 215 kB 24.6 MB/s eta 0:00:01\r\u001b[K     |████▏                           | 225 kB 24.6 MB/s eta 0:00:01\r\u001b[K     |████▍                           | 235 kB 24.6 MB/s eta 0:00:01\r\u001b[K     |████▋                           | 245 kB 24.6 MB/s eta 0:00:01\r\u001b[K     |████▉                           | 256 kB 24.6 MB/s eta 0:00:01\r\u001b[K     |█████                           | 266 kB 24.6 MB/s eta 0:00:01\r\u001b[K     |█████▏                          | 276 kB 24.6 MB/s eta 0:00:01\r\u001b[K     |█████▍                          | 286 kB 24.6 MB/s eta 0:00:01\r\u001b[K     |█████▋                          | 296 kB 24.6 MB/s eta 0:00:01\r\u001b[K     |█████▊                          | 307 kB 24.6 MB/s eta 0:00:01\r\u001b[K     |██████                          | 317 kB 24.6 MB/s eta 0:00:01\r\u001b[K     |██████▏                         | 327 kB 24.6 MB/s eta 0:00:01\r\u001b[K     |██████▎                         | 337 kB 24.6 MB/s eta 0:00:01\r\u001b[K     |██████▌                         | 348 kB 24.6 MB/s eta 0:00:01\r\u001b[K     |██████▊                         | 358 kB 24.6 MB/s eta 0:00:01\r\u001b[K     |███████                         | 368 kB 24.6 MB/s eta 0:00:01\r\u001b[K     |███████                         | 378 kB 24.6 MB/s eta 0:00:01\r\u001b[K     |███████▎                        | 389 kB 24.6 MB/s eta 0:00:01\r\u001b[K     |███████▌                        | 399 kB 24.6 MB/s eta 0:00:01\r\u001b[K     |███████▋                        | 409 kB 24.6 MB/s eta 0:00:01\r\u001b[K     |███████▉                        | 419 kB 24.6 MB/s eta 0:00:01\r\u001b[K     |████████                        | 430 kB 24.6 MB/s eta 0:00:01\r\u001b[K     |████████▎                       | 440 kB 24.6 MB/s eta 0:00:01\r\u001b[K     |████████▍                       | 450 kB 24.6 MB/s eta 0:00:01\r\u001b[K     |████████▋                       | 460 kB 24.6 MB/s eta 0:00:01\r\u001b[K     |████████▉                       | 471 kB 24.6 MB/s eta 0:00:01\r\u001b[K     |█████████                       | 481 kB 24.6 MB/s eta 0:00:01\r\u001b[K     |█████████▏                      | 491 kB 24.6 MB/s eta 0:00:01\r\u001b[K     |█████████▍                      | 501 kB 24.6 MB/s eta 0:00:01\r\u001b[K     |█████████▋                      | 512 kB 24.6 MB/s eta 0:00:01\r\u001b[K     |█████████▊                      | 522 kB 24.6 MB/s eta 0:00:01\r\u001b[K     |██████████                      | 532 kB 24.6 MB/s eta 0:00:01\r\u001b[K     |██████████▏                     | 542 kB 24.6 MB/s eta 0:00:01\r\u001b[K     |██████████▍                     | 552 kB 24.6 MB/s eta 0:00:01\r\u001b[K     |██████████▌                     | 563 kB 24.6 MB/s eta 0:00:01\r\u001b[K     |██████████▊                     | 573 kB 24.6 MB/s eta 0:00:01\r\u001b[K     |███████████                     | 583 kB 24.6 MB/s eta 0:00:01\r\u001b[K     |███████████▏                    | 593 kB 24.6 MB/s eta 0:00:01\r\u001b[K     |███████████▎                    | 604 kB 24.6 MB/s eta 0:00:01\r\u001b[K     |███████████▌                    | 614 kB 24.6 MB/s eta 0:00:01\r\u001b[K     |███████████▊                    | 624 kB 24.6 MB/s eta 0:00:01\r\u001b[K     |███████████▉                    | 634 kB 24.6 MB/s eta 0:00:01\r\u001b[K     |████████████                    | 645 kB 24.6 MB/s eta 0:00:01\r\u001b[K     |████████████▎                   | 655 kB 24.6 MB/s eta 0:00:01\r\u001b[K     |████████████▌                   | 665 kB 24.6 MB/s eta 0:00:01\r\u001b[K     |████████████▋                   | 675 kB 24.6 MB/s eta 0:00:01\r\u001b[K     |████████████▉                   | 686 kB 24.6 MB/s eta 0:00:01\r\u001b[K     |█████████████                   | 696 kB 24.6 MB/s eta 0:00:01\r\u001b[K     |█████████████▏                  | 706 kB 24.6 MB/s eta 0:00:01\r\u001b[K     |█████████████▍                  | 716 kB 24.6 MB/s eta 0:00:01\r\u001b[K     |█████████████▋                  | 727 kB 24.6 MB/s eta 0:00:01\r\u001b[K     |█████████████▉                  | 737 kB 24.6 MB/s eta 0:00:01\r\u001b[K     |██████████████                  | 747 kB 24.6 MB/s eta 0:00:01\r\u001b[K     |██████████████▏                 | 757 kB 24.6 MB/s eta 0:00:01\r\u001b[K     |██████████████▍                 | 768 kB 24.6 MB/s eta 0:00:01\r\u001b[K     |██████████████▋                 | 778 kB 24.6 MB/s eta 0:00:01\r\u001b[K     |██████████████▊                 | 788 kB 24.6 MB/s eta 0:00:01\r\u001b[K     |███████████████                 | 798 kB 24.6 MB/s eta 0:00:01\r\u001b[K     |███████████████▏                | 808 kB 24.6 MB/s eta 0:00:01\r\u001b[K     |███████████████▎                | 819 kB 24.6 MB/s eta 0:00:01\r\u001b[K     |███████████████▌                | 829 kB 24.6 MB/s eta 0:00:01\r\u001b[K     |███████████████▊                | 839 kB 24.6 MB/s eta 0:00:01\r\u001b[K     |████████████████                | 849 kB 24.6 MB/s eta 0:00:01\r\u001b[K     |████████████████                | 860 kB 24.6 MB/s eta 0:00:01\r\u001b[K     |████████████████▎               | 870 kB 24.6 MB/s eta 0:00:01\r\u001b[K     |████████████████▌               | 880 kB 24.6 MB/s eta 0:00:01\r\u001b[K     |████████████████▊               | 890 kB 24.6 MB/s eta 0:00:01\r\u001b[K     |████████████████▉               | 901 kB 24.6 MB/s eta 0:00:01\r\u001b[K     |█████████████████               | 911 kB 24.6 MB/s eta 0:00:01\r\u001b[K     |█████████████████▎              | 921 kB 24.6 MB/s eta 0:00:01\r\u001b[K     |█████████████████▍              | 931 kB 24.6 MB/s eta 0:00:01\r\u001b[K     |█████████████████▋              | 942 kB 24.6 MB/s eta 0:00:01\r\u001b[K     |█████████████████▉              | 952 kB 24.6 MB/s eta 0:00:01\r\u001b[K     |██████████████████              | 962 kB 24.6 MB/s eta 0:00:01\r\u001b[K     |██████████████████▏             | 972 kB 24.6 MB/s eta 0:00:01\r\u001b[K     |██████████████████▍             | 983 kB 24.6 MB/s eta 0:00:01\r\u001b[K     |██████████████████▋             | 993 kB 24.6 MB/s eta 0:00:01\r\u001b[K     |██████████████████▊             | 1.0 MB 24.6 MB/s eta 0:00:01\r\u001b[K     |███████████████████             | 1.0 MB 24.6 MB/s eta 0:00:01\r\u001b[K     |███████████████████▏            | 1.0 MB 24.6 MB/s eta 0:00:01\r\u001b[K     |███████████████████▍            | 1.0 MB 24.6 MB/s eta 0:00:01\r\u001b[K     |███████████████████▌            | 1.0 MB 24.6 MB/s eta 0:00:01\r\u001b[K     |███████████████████▊            | 1.1 MB 24.6 MB/s eta 0:00:01\r\u001b[K     |████████████████████            | 1.1 MB 24.6 MB/s eta 0:00:01\r\u001b[K     |████████████████████▏           | 1.1 MB 24.6 MB/s eta 0:00:01\r\u001b[K     |████████████████████▎           | 1.1 MB 24.6 MB/s eta 0:00:01\r\u001b[K     |████████████████████▌           | 1.1 MB 24.6 MB/s eta 0:00:01\r\u001b[K     |████████████████████▊           | 1.1 MB 24.6 MB/s eta 0:00:01\r\u001b[K     |████████████████████▉           | 1.1 MB 24.6 MB/s eta 0:00:01\r\u001b[K     |█████████████████████           | 1.1 MB 24.6 MB/s eta 0:00:01\r\u001b[K     |█████████████████████▎          | 1.1 MB 24.6 MB/s eta 0:00:01\r\u001b[K     |█████████████████████▌          | 1.1 MB 24.6 MB/s eta 0:00:01\r\u001b[K     |█████████████████████▋          | 1.2 MB 24.6 MB/s eta 0:00:01\r\u001b[K     |█████████████████████▉          | 1.2 MB 24.6 MB/s eta 0:00:01\r\u001b[K     |██████████████████████          | 1.2 MB 24.6 MB/s eta 0:00:01\r\u001b[K     |██████████████████████▎         | 1.2 MB 24.6 MB/s eta 0:00:01\r\u001b[K     |██████████████████████▍         | 1.2 MB 24.6 MB/s eta 0:00:01\r\u001b[K     |██████████████████████▋         | 1.2 MB 24.6 MB/s eta 0:00:01\r\u001b[K     |██████████████████████▉         | 1.2 MB 24.6 MB/s eta 0:00:01\r\u001b[K     |███████████████████████         | 1.2 MB 24.6 MB/s eta 0:00:01\r\u001b[K     |███████████████████████▏        | 1.2 MB 24.6 MB/s eta 0:00:01\r\u001b[K     |███████████████████████▍        | 1.2 MB 24.6 MB/s eta 0:00:01\r\u001b[K     |███████████████████████▋        | 1.3 MB 24.6 MB/s eta 0:00:01\r\u001b[K     |███████████████████████▊        | 1.3 MB 24.6 MB/s eta 0:00:01\r\u001b[K     |████████████████████████        | 1.3 MB 24.6 MB/s eta 0:00:01\r\u001b[K     |████████████████████████▏       | 1.3 MB 24.6 MB/s eta 0:00:01\r\u001b[K     |████████████████████████▎       | 1.3 MB 24.6 MB/s eta 0:00:01\r\u001b[K     |████████████████████████▌       | 1.3 MB 24.6 MB/s eta 0:00:01\r\u001b[K     |████████████████████████▊       | 1.3 MB 24.6 MB/s eta 0:00:01\r\u001b[K     |█████████████████████████       | 1.3 MB 24.6 MB/s eta 0:00:01\r\u001b[K     |█████████████████████████       | 1.3 MB 24.6 MB/s eta 0:00:01\r\u001b[K     |█████████████████████████▎      | 1.4 MB 24.6 MB/s eta 0:00:01\r\u001b[K     |█████████████████████████▌      | 1.4 MB 24.6 MB/s eta 0:00:01\r\u001b[K     |█████████████████████████▊      | 1.4 MB 24.6 MB/s eta 0:00:01\r\u001b[K     |█████████████████████████▉      | 1.4 MB 24.6 MB/s eta 0:00:01\r\u001b[K     |██████████████████████████      | 1.4 MB 24.6 MB/s eta 0:00:01\r\u001b[K     |██████████████████████████▎     | 1.4 MB 24.6 MB/s eta 0:00:01\r\u001b[K     |██████████████████████████▍     | 1.4 MB 24.6 MB/s eta 0:00:01\r\u001b[K     |██████████████████████████▋     | 1.4 MB 24.6 MB/s eta 0:00:01\r\u001b[K     |██████████████████████████▉     | 1.4 MB 24.6 MB/s eta 0:00:01\r\u001b[K     |███████████████████████████     | 1.4 MB 24.6 MB/s eta 0:00:01\r\u001b[K     |███████████████████████████▏    | 1.5 MB 24.6 MB/s eta 0:00:01\r\u001b[K     |███████████████████████████▍    | 1.5 MB 24.6 MB/s eta 0:00:01\r\u001b[K     |███████████████████████████▋    | 1.5 MB 24.6 MB/s eta 0:00:01\r\u001b[K     |███████████████████████████▉    | 1.5 MB 24.6 MB/s eta 0:00:01\r\u001b[K     |████████████████████████████    | 1.5 MB 24.6 MB/s eta 0:00:01\r\u001b[K     |████████████████████████████▏   | 1.5 MB 24.6 MB/s eta 0:00:01\r\u001b[K     |████████████████████████████▍   | 1.5 MB 24.6 MB/s eta 0:00:01\r\u001b[K     |████████████████████████████▌   | 1.5 MB 24.6 MB/s eta 0:00:01\r\u001b[K     |████████████████████████████▊   | 1.5 MB 24.6 MB/s eta 0:00:01\r\u001b[K     |█████████████████████████████   | 1.5 MB 24.6 MB/s eta 0:00:01\r\u001b[K     |█████████████████████████████▏  | 1.6 MB 24.6 MB/s eta 0:00:01\r\u001b[K     |█████████████████████████████▎  | 1.6 MB 24.6 MB/s eta 0:00:01\r\u001b[K     |█████████████████████████████▌  | 1.6 MB 24.6 MB/s eta 0:00:01\r\u001b[K     |█████████████████████████████▊  | 1.6 MB 24.6 MB/s eta 0:00:01\r\u001b[K     |█████████████████████████████▉  | 1.6 MB 24.6 MB/s eta 0:00:01\r\u001b[K     |██████████████████████████████  | 1.6 MB 24.6 MB/s eta 0:00:01\r\u001b[K     |██████████████████████████████▎ | 1.6 MB 24.6 MB/s eta 0:00:01\r\u001b[K     |██████████████████████████████▌ | 1.6 MB 24.6 MB/s eta 0:00:01\r\u001b[K     |██████████████████████████████▋ | 1.6 MB 24.6 MB/s eta 0:00:01\r\u001b[K     |██████████████████████████████▉ | 1.6 MB 24.6 MB/s eta 0:00:01\r\u001b[K     |███████████████████████████████ | 1.7 MB 24.6 MB/s eta 0:00:01\r\u001b[K     |███████████████████████████████▎| 1.7 MB 24.6 MB/s eta 0:00:01\r\u001b[K     |███████████████████████████████▍| 1.7 MB 24.6 MB/s eta 0:00:01\r\u001b[K     |███████████████████████████████▋| 1.7 MB 24.6 MB/s eta 0:00:01\r\u001b[K     |███████████████████████████████▉| 1.7 MB 24.6 MB/s eta 0:00:01\r\u001b[K     |████████████████████████████████| 1.7 MB 24.6 MB/s eta 0:00:01\r\u001b[K     |████████████████████████████████| 1.7 MB 24.6 MB/s \n",
            "\u001b[?25hRequirement already satisfied: scikit-learn>=0.23.0 in /usr/local/lib/python3.7/dist-packages (from scikit-learn-extra) (1.0.1)\n",
            "Requirement already satisfied: scipy>=0.19.1 in /usr/local/lib/python3.7/dist-packages (from scikit-learn-extra) (1.4.1)\n",
            "Requirement already satisfied: numpy>=1.13.3 in /usr/local/lib/python3.7/dist-packages (from scikit-learn-extra) (1.19.5)\n",
            "Requirement already satisfied: threadpoolctl>=2.0.0 in /usr/local/lib/python3.7/dist-packages (from scikit-learn>=0.23.0->scikit-learn-extra) (3.0.0)\n",
            "Requirement already satisfied: joblib>=0.11 in /usr/local/lib/python3.7/dist-packages (from scikit-learn>=0.23.0->scikit-learn-extra) (1.1.0)\n",
            "Installing collected packages: scikit-learn-extra\n",
            "Successfully installed scikit-learn-extra-0.2.0\n"
          ]
        }
      ]
    },
    {
      "cell_type": "code",
      "source": [
        "from sklearn_extra.cluster import KMedoids"
      ],
      "metadata": {
        "id": "NXSw3GRKgivt"
      },
      "execution_count": null,
      "outputs": []
    },
    {
      "cell_type": "code",
      "source": [
        "ob=KMedoids(n_clusters=2)"
      ],
      "metadata": {
        "id": "u4PtPMcBgvgh"
      },
      "execution_count": null,
      "outputs": []
    },
    {
      "cell_type": "code",
      "source": [
        "ob.fit(df)"
      ],
      "metadata": {
        "colab": {
          "base_uri": "https://localhost:8080/"
        },
        "id": "m3fcS9QhgyTz",
        "outputId": "4999b107-9837-41e3-f39d-9ace26501aa9"
      },
      "execution_count": null,
      "outputs": [
        {
          "output_type": "execute_result",
          "data": {
            "text/plain": [
              "KMedoids(n_clusters=2)"
            ]
          },
          "metadata": {},
          "execution_count": 29
        }
      ]
    },
    {
      "cell_type": "code",
      "source": [
        "ob.labels_"
      ],
      "metadata": {
        "colab": {
          "base_uri": "https://localhost:8080/",
          "height": 170
        },
        "id": "HlljLJqjxfyH",
        "outputId": "2cdf24ed-e7c1-4102-cf73-19310ef35198"
      },
      "execution_count": null,
      "outputs": [
        {
          "output_type": "error",
          "ename": "NameError",
          "evalue": "ignored",
          "traceback": [
            "\u001b[0;31m---------------------------------------------------------------------------\u001b[0m",
            "\u001b[0;31mNameError\u001b[0m                                 Traceback (most recent call last)",
            "\u001b[0;32m<ipython-input-25-0283a1ebce1d>\u001b[0m in \u001b[0;36m<module>\u001b[0;34m()\u001b[0m\n\u001b[0;32m----> 1\u001b[0;31m \u001b[0mob\u001b[0m\u001b[0;34m.\u001b[0m\u001b[0mlabels_\u001b[0m\u001b[0;34m\u001b[0m\u001b[0;34m\u001b[0m\u001b[0m\n\u001b[0m",
            "\u001b[0;31mNameError\u001b[0m: name 'ob' is not defined"
          ]
        }
      ]
    },
    {
      "cell_type": "code",
      "source": [
        "ob.metric"
      ],
      "metadata": {
        "colab": {
          "base_uri": "https://localhost:8080/",
          "height": 36
        },
        "id": "NXzvfPDBxnGE",
        "outputId": "1b9de74b-532e-439e-d226-627b74d345c6"
      },
      "execution_count": null,
      "outputs": [
        {
          "output_type": "execute_result",
          "data": {
            "application/vnd.google.colaboratory.intrinsic+json": {
              "type": "string"
            },
            "text/plain": [
              "'euclidean'"
            ]
          },
          "metadata": {},
          "execution_count": 20
        }
      ]
    },
    {
      "cell_type": "code",
      "source": [
        "from sklearn.metrics import silhouette_score"
      ],
      "metadata": {
        "id": "rVvfhXCdy1MG"
      },
      "execution_count": null,
      "outputs": []
    },
    {
      "cell_type": "code",
      "source": [
        "silhouette_score(df,km.labels_)"
      ],
      "metadata": {
        "colab": {
          "base_uri": "https://localhost:8080/"
        },
        "id": "n654pr0ugtIx",
        "outputId": "be8bda87-a970-4365-d28f-c4fa6419a32c"
      },
      "execution_count": null,
      "outputs": [
        {
          "output_type": "execute_result",
          "data": {
            "text/plain": [
              "0.4153026782525349"
            ]
          },
          "metadata": {},
          "execution_count": 62
        }
      ]
    },
    {
      "cell_type": "code",
      "source": [
        ""
      ],
      "metadata": {
        "id": "W5TY2VGUH7FD"
      },
      "execution_count": null,
      "outputs": []
    },
    {
      "cell_type": "code",
      "source": [
        ""
      ],
      "metadata": {
        "id": "-KDPozX7IvYU"
      },
      "execution_count": null,
      "outputs": []
    }
  ]
}