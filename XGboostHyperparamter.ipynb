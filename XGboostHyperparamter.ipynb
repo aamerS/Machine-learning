{
  "cells": [
    {
      "cell_type": "markdown",
      "metadata": {
        "id": "view-in-github",
        "colab_type": "text"
      },
      "source": [
        "<a href=\"https://colab.research.google.com/github/aamerS/Machine-learning/blob/master/XGboostHyperparamter.ipynb\" target=\"_parent\"><img src=\"https://colab.research.google.com/assets/colab-badge.svg\" alt=\"Open In Colab\"/></a>"
      ]
    },
    {
      "cell_type": "code",
      "execution_count": null,
      "metadata": {
        "id": "na3nOvG_RSRA"
      },
      "outputs": [],
      "source": [
        "from sklearn import datasets"
      ]
    },
    {
      "cell_type": "code",
      "execution_count": null,
      "metadata": {
        "id": "jVaT_t6aR4Of"
      },
      "outputs": [],
      "source": [
        "iris=datasets.load_iris()"
      ]
    },
    {
      "cell_type": "code",
      "execution_count": null,
      "metadata": {
        "id": "jePqEqcDR-If"
      },
      "outputs": [],
      "source": [
        "X=iris.data\n",
        "y=iris.target"
      ]
    },
    {
      "cell_type": "code",
      "execution_count": null,
      "metadata": {
        "id": "eIyf4QEiSOL7"
      },
      "outputs": [],
      "source": [
        "from sklearn.model_selection import train_test_split"
      ]
    },
    {
      "cell_type": "code",
      "execution_count": null,
      "metadata": {
        "id": "lzpbCva9Uot4"
      },
      "outputs": [],
      "source": [
        "X_train,X_test,y_train,y_test=train_test_split(X,y,random_state=123)"
      ]
    },
    {
      "cell_type": "code",
      "execution_count": null,
      "metadata": {
        "id": "E4wPyMtUUv1D"
      },
      "outputs": [],
      "source": [
        "from xgboost import XGBRFClassifier"
      ]
    },
    {
      "cell_type": "code",
      "execution_count": null,
      "metadata": {
        "id": "YrfZxV-m4Wjd"
      },
      "outputs": [],
      "source": [
        "from xgboost.sklearn import XGBClassifier\n",
        "xg=XGBClassifier(n_estimators=10)"
      ]
    },
    {
      "cell_type": "code",
      "execution_count": null,
      "metadata": {
        "colab": {
          "base_uri": "https://localhost:8080/"
        },
        "id": "chwJ-KTS5Vsv",
        "outputId": "f6193fc0-94fc-487c-d878-dffd8eccf287"
      },
      "outputs": [
        {
          "output_type": "execute_result",
          "data": {
            "text/plain": [
              "XGBClassifier(n_estimators=10, objective='multi:softprob')"
            ]
          },
          "metadata": {},
          "execution_count": 12
        }
      ],
      "source": [
        "xg.fit(X_train,y_train)"
      ]
    },
    {
      "cell_type": "code",
      "execution_count": null,
      "metadata": {
        "id": "5IjoMhEs5niM"
      },
      "outputs": [],
      "source": [
        "y_pred=xg.predict(X_test)"
      ]
    },
    {
      "cell_type": "code",
      "execution_count": null,
      "metadata": {
        "id": "HaQv-O-WXQts"
      },
      "outputs": [],
      "source": [
        "from sklearn.metrics import accuracy_score,confusion_matrix"
      ]
    },
    {
      "cell_type": "code",
      "execution_count": null,
      "metadata": {
        "id": "KlBCbEE3XVbP"
      },
      "outputs": [],
      "source": [
        "confusion_matrix(y_test,y_pred)"
      ]
    },
    {
      "cell_type": "code",
      "execution_count": null,
      "metadata": {
        "colab": {
          "base_uri": "https://localhost:8080/"
        },
        "id": "9JxSgTF_XZZR",
        "outputId": "8ac2d4d4-607e-4add-fabe-715dd2f69592"
      },
      "outputs": [
        {
          "output_type": "execute_result",
          "data": {
            "text/plain": [
              "0.9736842105263158"
            ]
          },
          "metadata": {},
          "execution_count": 13
        }
      ],
      "source": [
        "accuracy_score(y_test,y_pred)"
      ]
    },
    {
      "cell_type": "markdown",
      "metadata": {
        "id": "IjR8lH0O2Vog"
      },
      "source": [
        "# Hyper parameter tuning"
      ]
    },
    {
      "cell_type": "code",
      "execution_count": null,
      "metadata": {
        "id": "HyMT1s5q6nHx"
      },
      "outputs": [],
      "source": [
        "param={ 'learning_rate':[0.05,0.10,0.15,0.20,0.25,0.30],\n",
        "        'max_depth':[3,4,5,6,8,10,12,15],  \n",
        "        'min_child_weight':[1,3,5,7],\n",
        "        'gamma': [0.0,0.1,0.2,0.3,0.4],\n",
        "        'n_estimators':[10,20] \n",
        "          }"
      ]
    },
    {
      "cell_type": "code",
      "execution_count": null,
      "metadata": {
        "id": "XrAgbLDY6o4y"
      },
      "outputs": [],
      "source": [
        "from sklearn.model_selection import GridSearchCV"
      ]
    },
    {
      "cell_type": "code",
      "execution_count": null,
      "metadata": {
        "id": "BHMyum_J7r9M"
      },
      "outputs": [],
      "source": [
        "gsc = GridSearchCV(estimator=xg,\n",
        "                   param_grid = param,\n",
        "                   scoring = 'accuracy',\n",
        "                   cv=10,n_jobs=-1)\n"
      ]
    },
    {
      "cell_type": "code",
      "execution_count": null,
      "metadata": {
        "colab": {
          "base_uri": "https://localhost:8080/"
        },
        "id": "adigatH984NE",
        "outputId": "d6538557-3243-4fba-ad74-93c0a5f401bc"
      },
      "outputs": [
        {
          "output_type": "execute_result",
          "data": {
            "text/plain": [
              "GridSearchCV(cv=10,\n",
              "             estimator=XGBClassifier(n_estimators=10,\n",
              "                                     objective='multi:softprob'),\n",
              "             n_jobs=-1,\n",
              "             param_grid={'gamma': [0.0, 0.1, 0.2, 0.3, 0.4],\n",
              "                         'learning_rate': [0.05, 0.1, 0.15, 0.2, 0.25, 0.3],\n",
              "                         'max_depth': [3, 4, 5, 6, 8, 10, 12, 15],\n",
              "                         'min_child_weight': [1, 3, 5, 7],\n",
              "                         'n_estimators': [10, 20]},\n",
              "             scoring='accuracy')"
            ]
          },
          "metadata": {},
          "execution_count": 22
        }
      ],
      "source": [
        "gsc.fit(X_train,y_train)"
      ]
    },
    {
      "cell_type": "code",
      "execution_count": null,
      "metadata": {
        "colab": {
          "base_uri": "https://localhost:8080/",
          "height": 166
        },
        "id": "W4AMibZy9BIM",
        "outputId": "2589619c-6eec-4659-c7c1-7360dcbe6bf2"
      },
      "outputs": [
        {
          "output_type": "error",
          "ename": "AttributeError",
          "evalue": "ignored",
          "traceback": [
            "\u001b[0;31m---------------------------------------------------------------------------\u001b[0m",
            "\u001b[0;31mAttributeError\u001b[0m                            Traceback (most recent call last)",
            "\u001b[0;32m<ipython-input-18-bc6be116282e>\u001b[0m in \u001b[0;36m<module>\u001b[0;34m()\u001b[0m\n\u001b[0;32m----> 1\u001b[0;31m \u001b[0mgsc\u001b[0m\u001b[0;34m.\u001b[0m\u001b[0mbest_params_\u001b[0m\u001b[0;34m\u001b[0m\u001b[0;34m\u001b[0m\u001b[0m\n\u001b[0m",
            "\u001b[0;31mAttributeError\u001b[0m: 'GridSearchCV' object has no attribute 'best_params_'"
          ]
        }
      ],
      "source": [
        "gsc.best_params_"
      ]
    },
    {
      "cell_type": "code",
      "execution_count": null,
      "metadata": {
        "colab": {
          "base_uri": "https://localhost:8080/"
        },
        "id": "mnSGNNbA9QLM",
        "outputId": "3dc9b4ac-9591-4884-bc50-80940852cf0c"
      },
      "outputs": [
        {
          "data": {
            "text/plain": [
              "0.9727272727272727"
            ]
          },
          "execution_count": 64,
          "metadata": {},
          "output_type": "execute_result"
        }
      ],
      "source": [
        "gsc.best_score_"
      ]
    },
    {
      "cell_type": "code",
      "execution_count": null,
      "metadata": {
        "id": "29FWT1xn9VVE"
      },
      "outputs": [],
      "source": [
        "# RandomizedSearchCV\n",
        "\n",
        "from sklearn.model_selection import RandomizedSearchCV"
      ]
    },
    {
      "cell_type": "code",
      "execution_count": null,
      "metadata": {
        "id": "r5uxo1A1DdRG"
      },
      "outputs": [],
      "source": [
        "rsc=RandomizedSearchCV(estimator=sv,param_distributions=param,scoring='accuracy',cv=10,n_jobs=-1,n_iter=8)"
      ]
    },
    {
      "cell_type": "code",
      "execution_count": null,
      "metadata": {
        "colab": {
          "base_uri": "https://localhost:8080/"
        },
        "id": "PO0AstLaEHFl",
        "outputId": "7ae958d9-d07c-4c74-b699-6d5ad9b633ec"
      },
      "outputs": [
        {
          "data": {
            "text/plain": [
              "RandomizedSearchCV(cv=10, estimator=SVC(C=1, gamma=0.1), n_iter=8, n_jobs=-1,\n",
              "                   param_distributions=[{'C': [1, 10, 100, 1000],\n",
              "                                         'kernel': ['linear']},\n",
              "                                        {'C': [1, 10, 100, 1000],\n",
              "                                         'gamma': [0.1, 0.2, 0.3],\n",
              "                                         'kernel': ['rbf', 'poly']}],\n",
              "                   scoring='accuracy')"
            ]
          },
          "execution_count": 73,
          "metadata": {},
          "output_type": "execute_result"
        }
      ],
      "source": [
        "rsc.fit(X_train,y_train)"
      ]
    },
    {
      "cell_type": "code",
      "execution_count": null,
      "metadata": {
        "colab": {
          "base_uri": "https://localhost:8080/"
        },
        "id": "SroDFUsmEOsR",
        "outputId": "a5990421-3660-47ec-cb19-03e596a58cb0"
      },
      "outputs": [
        {
          "data": {
            "text/plain": [
              "{'C': 1, 'gamma': 0.3, 'kernel': 'rbf'}"
            ]
          },
          "execution_count": 75,
          "metadata": {},
          "output_type": "execute_result"
        }
      ],
      "source": [
        "rsc.best_params_"
      ]
    },
    {
      "cell_type": "code",
      "execution_count": null,
      "metadata": {
        "colab": {
          "base_uri": "https://localhost:8080/"
        },
        "id": "5lGaht5jESau",
        "outputId": "34d25266-d302-4f72-dde6-e90c83ad1652"
      },
      "outputs": [
        {
          "data": {
            "text/plain": [
              "0.9727272727272727"
            ]
          },
          "execution_count": 76,
          "metadata": {},
          "output_type": "execute_result"
        }
      ],
      "source": [
        "rsc.best_score_"
      ]
    },
    {
      "cell_type": "code",
      "execution_count": null,
      "metadata": {
        "colab": {
          "base_uri": "https://localhost:8080/"
        },
        "id": "2uKrbdxLEZDA",
        "outputId": "7e63ed5e-7483-4933-c6a2-cd272dd9eae3"
      },
      "outputs": [
        {
          "data": {
            "text/plain": [
              "RandomizedSearchCV(cv=10, estimator=SVC(C=1, gamma=0.1), n_iter=8, n_jobs=-1,\n",
              "                   param_distributions=[{'C': [1, 10, 100, 1000],\n",
              "                                         'kernel': ['linear']},\n",
              "                                        {'C': [1, 10, 100, 1000],\n",
              "                                         'gamma': [0.1, 0.2, 0.3],\n",
              "                                         'kernel': ['rbf', 'poly']}],\n",
              "                   scoring='accuracy')"
            ]
          },
          "execution_count": 82,
          "metadata": {},
          "output_type": "execute_result"
        }
      ],
      "source": [
        "rsc"
      ]
    },
    {
      "cell_type": "code",
      "execution_count": null,
      "metadata": {
        "id": "7ao6GBIbHX2N"
      },
      "outputs": [],
      "source": []
    }
  ],
  "metadata": {
    "colab": {
      "collapsed_sections": [],
      "provenance": [],
      "authorship_tag": "ABX9TyOEefIKWNhrv2r9WuiVbsNS",
      "include_colab_link": true
    },
    "kernelspec": {
      "display_name": "Python 3",
      "name": "python3"
    },
    "language_info": {
      "name": "python"
    },
    "accelerator": "GPU"
  },
  "nbformat": 4,
  "nbformat_minor": 0
}